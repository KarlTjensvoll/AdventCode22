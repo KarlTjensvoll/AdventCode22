{
 "cells": [
  {
   "cell_type": "code",
   "execution_count": 4,
   "metadata": {},
   "outputs": [],
   "source": [
    "import re\n",
    "from itertools import zip_longest"
   ]
  },
  {
   "cell_type": "code",
   "execution_count": 5,
   "metadata": {},
   "outputs": [],
   "source": [
    "def parse_stack(raw_stack):\n",
    "    raw_stack_lines = raw_stack.split('\\n')\n",
    "    \n",
    "    # The position of the numbers tell us the position of the container in the string.\n",
    "    column_locations = [col_loc.span()[0] for col_loc in re.finditer(r'\\d', raw_stack_lines[-1])]\n",
    "\n",
    "    # Each line is the containers top from bottom, we transpose to put each column of containers\n",
    "    # in the same list.\n",
    "    transposed_stack = [\n",
    "        [column[col_index].strip() for col_index in column_locations] \n",
    "        for column in raw_stack_lines[:-1]\n",
    "    ]\n",
    "    \n",
    "    # The columns are of equal length, remove empty strings that signifies there is no container.\n",
    "    stack = [[container for container in column if container != ''] for column in zip(*transposed_stack)]\n",
    "    \n",
    "    # Reverse so that the top container is to the right in the list. Makes pop and append easier.\n",
    "    return [substack[::-1] for substack in stack]"
   ]
  },
  {
   "cell_type": "code",
   "execution_count": 6,
   "metadata": {},
   "outputs": [],
   "source": [
    "def parse_instructions(raw_instructions):\n",
    "    # Find all the numbers in the instrictions, we dont need the text \n",
    "    # as we use its location in the list instead.\n",
    "    return [\n",
    "        [int(number) for number in re.findall('\\d+', instruction)]\n",
    "        for instruction in raw_instructions.split('\\n')\n",
    "    ]"
   ]
  },
  {
   "cell_type": "code",
   "execution_count": 7,
   "metadata": {},
   "outputs": [
    {
     "name": "stdout",
     "output_type": "stream",
     "text": [
      "ZWHVFWQWW\n"
     ]
    }
   ],
   "source": [
    "def unload_stack():\n",
    "    with open('05_input.txt', 'r') as stack:\n",
    "        raw_stack, raw_instructions = stack.read().split('\\n\\n')\n",
    "        stack = parse_stack(raw_stack)\n",
    "        instructions = parse_instructions(raw_instructions)\n",
    "        \n",
    "        for instruction in instructions:\n",
    "            pop_containers = [\n",
    "                stack[instruction[1] - 1].pop() for _ in range(instruction[0])\n",
    "            ]\n",
    "            stack[instruction[2] - 1] += pop_containers\n",
    "    return stack\n",
    "            \n",
    "\n",
    "print(*[column[-1] for column in unload_stack()], sep = '')"
   ]
  },
  {
   "cell_type": "code",
   "execution_count": 9,
   "metadata": {},
   "outputs": [
    {
     "name": "stdout",
     "output_type": "stream",
     "text": [
      "HZFZCCWWV\n"
     ]
    }
   ],
   "source": [
    "def unload_stack2():\n",
    "    with open('05_input.txt', 'r') as stack:\n",
    "        raw_stack, raw_instructions = stack.read().split('\\n\\n')\n",
    "        stack = parse_stack(raw_stack)\n",
    "        instructions = parse_instructions(raw_instructions)\n",
    "\n",
    "        for instruction in instructions:\n",
    "            stack[instruction[2] - 1] += stack[instruction[1] - 1][-instruction[0]:]\n",
    "            stack[instruction[1] - 1] = stack[instruction[1] - 1][:-instruction[0]]\n",
    "    return stack\n",
    "        \n",
    "\n",
    "print(*[column[-1] for column in unload_stack2()], sep = '')"
   ]
  }
 ],
 "metadata": {
  "kernelspec": {
   "display_name": "Python 3",
   "language": "python",
   "name": "python3"
  },
  "language_info": {
   "codemirror_mode": {
    "name": "ipython",
    "version": 3
   },
   "file_extension": ".py",
   "mimetype": "text/x-python",
   "name": "python",
   "nbconvert_exporter": "python",
   "pygments_lexer": "ipython3",
   "version": "3.8.3"
  }
 },
 "nbformat": 4,
 "nbformat_minor": 4
}
