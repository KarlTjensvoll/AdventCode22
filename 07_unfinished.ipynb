{
 "cells": [
  {
   "cell_type": "code",
   "execution_count": 1,
   "metadata": {},
   "outputs": [
    {
     "ename": "SyntaxError",
     "evalue": "invalid syntax (<ipython-input-1-a0fc8a28c0fa>, line 8)",
     "output_type": "error",
     "traceback": [
      "\u001b[0;36m  File \u001b[0;32m\"<ipython-input-1-a0fc8a28c0fa>\"\u001b[0;36m, line \u001b[0;32m8\u001b[0m\n\u001b[0;31m    match line.split():\u001b[0m\n\u001b[0m          ^\u001b[0m\n\u001b[0;31mSyntaxError\u001b[0m\u001b[0;31m:\u001b[0m invalid syntax\n"
     ]
    }
   ],
   "source": [
    "from collections import defaultdict\n",
    "from itertools import accumulate\n",
    "\n",
    "\n",
    "dirs = defaultdict(int)\n",
    "\n",
    "for line in open('07_input.txt'):\n",
    "    match line.split():\n",
    "        case '$', 'cd', '/': curr = ['/']\n",
    "        case '$', 'cd', '..': curr.pop()\n",
    "        case '$', 'cd', x: curr.append(x+'/')\n",
    "        case '$', 'ls': pass\n",
    "        case 'dir', _: pass\n",
    "        case size, _:\n",
    "            for p in accumulate(curr):\n",
    "                dirs[p] += int(size)"
   ]
  },
  {
   "cell_type": "code",
   "execution_count": null,
   "metadata": {},
   "outputs": [],
   "source": []
  },
  {
   "cell_type": "code",
   "execution_count": null,
   "metadata": {},
   "outputs": [],
   "source": []
  },
  {
   "cell_type": "code",
   "execution_count": 7,
   "metadata": {},
   "outputs": [],
   "source": [
    "def traverse_file_tree(console_output):\n",
    "    global i\n",
    "    dir_size = 0\n",
    "    \n",
    "    while i < len(console_output):\n",
    "        line = console_output[i].strip()\n",
    "        i += 1\n",
    "        \n",
    "        if line == '$ ls' or 'dir ' in line:\n",
    "            continue\n",
    "        elif line == '$ cd ..':\n",
    "            return dir_size if dir_size < 100000 else 0\n",
    "        \n",
    "        elif '$ cd' in line:\n",
    "            dir_size += traverse_file_tree(console_output)\n",
    "            \n",
    "        else:\n",
    "            size, filename = line.split()\n",
    "            dir_size += int(size)\n",
    "    return(dir_size)"
   ]
  },
  {
   "cell_type": "code",
   "execution_count": 8,
   "metadata": {},
   "outputs": [
    {
     "name": "stdout",
     "output_type": "stream",
     "text": [
      "189999\n"
     ]
    }
   ],
   "source": [
    "i = 0\n",
    "with open('07_input.txt', 'r') as console_output:\n",
    "    print(traverse_file_tree(console_output.readlines()))"
   ]
  },
  {
   "cell_type": "code",
   "execution_count": null,
   "metadata": {},
   "outputs": [],
   "source": [
    "def traverse_file_tree(console_output)\n",
    "    _, _, this_dir = console_output[0].split()\n",
    "    this_dict = {this_dir: {'dir': [], 'size': 0}}\n",
    "    \n",
    "    for line in console_output[1:]:\n",
    "    \n",
    "    \n",
    "    for line in console_output:\n",
    "        \n",
    "        if line == '$ cd ..':\n",
    "            return this_dict, this_size\n",
    "        \n",
    "        elif '$ cd' in line:\n",
    "            dir_content, dir_size = traverse_file_tree(console_output)\n",
    "            this_dict[this_dir]['dir'] += dir_content\n",
    "            this_dict[this_dir]['size'] += dir_size\n",
    "        else:\n",
    "            "
   ]
  },
  {
   "cell_type": "code",
   "execution_count": null,
   "metadata": {},
   "outputs": [],
   "source": [
    "def temp_name():\n",
    "    with open('07_input.txt', 'r') as puzzle_input:"
   ]
  },
  {
   "cell_type": "code",
   "execution_count": null,
   "metadata": {},
   "outputs": [],
   "source": []
  },
  {
   "cell_type": "code",
   "execution_count": null,
   "metadata": {},
   "outputs": [],
   "source": []
  },
  {
   "cell_type": "code",
   "execution_count": null,
   "metadata": {},
   "outputs": [],
   "source": []
  },
  {
   "cell_type": "code",
   "execution_count": null,
   "metadata": {},
   "outputs": [],
   "source": []
  },
  {
   "cell_type": "code",
   "execution_count": 73,
   "metadata": {},
   "outputs": [],
   "source": [
    "def temp_name():\n",
    "    with open('07_input.txt', 'r') as puzzle_input:\n",
    "        current_dir_trail = []\n",
    "        file_tree = {}\n",
    "        \n",
    "        for line in puzzle_input.readlines():\n",
    "            line = line.strip()\n",
    "            \n",
    "            if '$ cd' in line:\n",
    "                _, cd, new_dir = line.split(' ')\n",
    "                \n",
    "                if new_dir == '..':\n",
    "                    if file_tree[current_dir]['size'] >= 10000:\n",
    "                        current_size = \n",
    "                    current_dir = current_dir_trail.pop()\n",
    "                    \n",
    "                    #try: \n",
    "                    #    current_dir = [\n",
    "                    #        sub_dir for sub_dir, contents in file_tree.items() \n",
    "                    #        if current_dir in contents['dir']\n",
    "                    #    ][0]\n",
    "                    #except IndexError:\n",
    "                    #    print(i, new_dir, current_dir, file_tree, sep = '\\n')\n",
    "                else:\n",
    "                    current_dir = new_dir\n",
    "                    current_dir_trail += [new_dir]\n",
    "                    file_tree[current_dir] = {'dir': [], 'size': 0}\n",
    "            \n",
    "            elif line != '$ ls':\n",
    "                first, second = line.split()\n",
    "                \n",
    "                if first == 'dir':\n",
    "                    file_tree[current_dir]['dir'].append(second)\n",
    "                else:\n",
    "                    file_tree[current_dir]['size'] += int(first)\n",
    "    \n",
    "    return file_tree\n",
    "                \n",
    "\n",
    "\n",
    "file_tree = temp_name()"
   ]
  },
  {
   "cell_type": "code",
   "execution_count": 74,
   "metadata": {},
   "outputs": [
    {
     "name": "stdout",
     "output_type": "stream",
     "text": [
      "{'/': {'dir': ['drblq', 'jpfrhmw', 'jqfwd', 'ncgffsr', 'qnbq', 'rqdngnrq', 'shcvnqq', 'vsd', 'vtzvf'], 'size': 146751}, 'drblq': {'dir': ['brfnfhj'], 'size': 482720}, 'brfnfhj': {'dir': ['nhvgrzs'], 'size': 150447}, 'nhvgrzs': {'dir': ['vbzr', 'wdcn'], 'size': 308231}, 'vbzr': {'dir': [], 'size': 266721}, 'wdcn': {'dir': [], 'size': 154089}, 'jpfrhmw': {'dir': ['vbzr'], 'size': 113787}, 'blhstw': {'dir': [], 'size': 98023}, 'rgdp': {'dir': ['gcb', 'ssvzm'], 'size': 141507}, 'gcb': {'dir': [], 'size': 189016}, 'ssvzm': {'dir': [], 'size': 82667}, 'wmct': {'dir': ['fbsfcgph', 'pvwhpfp'], 'size': 442698}, 'fbsfcgph': {'dir': [], 'size': 139944}, 'pvwhpfp': {'dir': ['dgjsddgq', 'szrplcdw', 'vzsl', 'wsmf'], 'size': 631352}, 'dgjsddgq': {'dir': ['qnbq'], 'size': 0}, 'qnbq': {'dir': [], 'size': 62861}, 'szrplcdw': {'dir': [], 'size': 391874}, 'vzsl': {'dir': [], 'size': 233006}, 'wsmf': {'dir': ['wcnptvtz'], 'size': 0}, 'wcnptvtz': {'dir': [], 'size': 183952}, 'jqfwd': {'dir': ['hqb', 'nhpqpdn', 'qnbq', 'qtrv', 'wspztvjr'], 'size': 285121}, 'hqb': {'dir': ['vbzr'], 'size': 253786}, 'gqpqqrgl': {'dir': [], 'size': 206691}, 'jzncgd': {'dir': [], 'size': 122640}, 'nhpqpdn': {'dir': [], 'size': 86329}, 'lhgjrmj': {'dir': ['ghccnw', 'spmbcjhc'], 'size': 391568}, 'ghccnw': {'dir': [], 'size': 360525}, 'spmbcjhc': {'dir': ['shcvnqq'], 'size': 0}, 'shcvnqq': {'dir': ['cmwrqgfq', 'lttjrdn', 'sqgnhc'], 'size': 679577}, 'pbv': {'dir': [], 'size': 355009}, 'qtrv': {'dir': ['pwwsrjc', 'swhzds', 'vcgv'], 'size': 817680}, 'pwwsrjc': {'dir': [], 'size': 647391}, 'swhzds': {'dir': [], 'size': 114686}, 'vcgv': {'dir': ['fbqjmp', 'qlsgtfhf', 'vbzr'], 'size': 0}, 'fbqjmp': {'dir': [], 'size': 344804}, 'qlsgtfhf': {'dir': [], 'size': 75227}, 'wspztvjr': {'dir': ['pntrhtwh', 'qnbq', 'zfdzvv'], 'size': 0}, 'pntrhtwh': {'dir': [], 'size': 237258}, 'ccwmftsj': {'dir': ['mfc', 'shcvnqq'], 'size': 12262}, 'mfc': {'dir': ['gghsht'], 'size': 403458}, 'gghsht': {'dir': [], 'size': 31767}, 'lgrghwf': {'dir': [], 'size': 114786}, 'zfdzvv': {'dir': [], 'size': 114601}, 'ncgffsr': {'dir': [], 'size': 391530}, 'fqqsqmpr': {'dir': ['mcdjcntr'], 'size': 0}, 'mcdjcntr': {'dir': [], 'size': 281856}, 'gfznw': {'dir': ['ltfsndpd', 'vcspqgn', 'wqpnp'], 'size': 711450}, 'ltfsndpd': {'dir': ['ncgffsr', 'zpzvdhb'], 'size': 0}, 'zpzvdhb': {'dir': [], 'size': 106139}, 'vcspqgn': {'dir': [], 'size': 25386}, 'wqpnp': {'dir': [], 'size': 65905}, 'ncdft': {'dir': [], 'size': 159108}, 'pwmppt': {'dir': ['dwnqgrzm'], 'size': 170458}, 'dwnqgrzm': {'dir': ['vbzr'], 'size': 184770}, 'sgcz': {'dir': [], 'size': 289942}, 'rqdngnrq': {'dir': ['cprnb', 'hwhm', 'zgn'], 'size': 785494}, 'cprnb': {'dir': [], 'size': 115025}, 'hwhm': {'dir': ['mscztz', 'ncgffsr'], 'size': 420471}, 'mscztz': {'dir': ['zqgtr'], 'size': 316016}, 'zqgtr': {'dir': [], 'size': 189142}, 'dphrnjl': {'dir': [], 'size': 117317}, 'zzfztql': {'dir': [], 'size': 51096}, 'zgn': {'dir': ['bpbzwgz', 'gqnw', 'ncgffsr', 'shcvnqq', 'vbzr'], 'size': 493276}, 'bpbzwgz': {'dir': [], 'size': 162595}, 'gqnw': {'dir': [], 'size': 205497}, 'lbzgc': {'dir': [], 'size': 298254}, 'dvvmhzcq': {'dir': ['qnbq', 'shcvnqq'], 'size': 70226}, 'fcs': {'dir': [], 'size': 272051}, 'lbfjqh': {'dir': [], 'size': 261487}, 'sgjtm': {'dir': ['dnznpj', 'jzsntnbs', 'nqgcbd', 'vdg'], 'size': 0}, 'dnznpj': {'dir': [], 'size': 569823}, 'jzsntnbs': {'dir': [], 'size': 67448}, 'nqgcbd': {'dir': [], 'size': 394732}, 'vdg': {'dir': [], 'size': 257343}, 'sqzzllv': {'dir': [], 'size': 146018}, 'slnvdd': {'dir': [], 'size': 298359}, 'vsd': {'dir': ['dfb', 'fqqnsph', 'gbwdhjr', 'ncgffsr', 'qnbq', 'rjzjrbvs'], 'size': 18837}, 'dfb': {'dir': ['bpst', 'lcwhfzjw'], 'size': 66174}, 'bpst': {'dir': ['nqftnn', 'pcvgnvnp'], 'size': 0}, 'nqftnn': {'dir': ['bbrsg', 'gjfc', 'hfql', 'shcvnqq', 'ssnjqbg'], 'size': 139226}, 'bbrsg': {'dir': [], 'size': 73382}, 'gjfc': {'dir': [], 'size': 527140}, 'hfql': {'dir': [], 'size': 14685}, 'ssnjqbg': {'dir': [], 'size': 77678}, 'pcvgnvnp': {'dir': [], 'size': 287869}, 'lcwhfzjw': {'dir': ['bhdnnbvm', 'fdnsvfh', 'lfdbzfl', 'tlw'], 'size': 669336}, 'bhdnnbvm': {'dir': [], 'size': 40452}, 'fdnsvfh': {'dir': [], 'size': 20765}, 'lfdbzfl': {'dir': ['fspntmld'], 'size': 183925}, 'fspntmld': {'dir': [], 'size': 398353}, 'tlw': {'dir': ['qqn'], 'size': 0}, 'qqn': {'dir': [], 'size': 39232}, 'fqqnsph': {'dir': [], 'size': 254974}, 'gbwdhjr': {'dir': [], 'size': 253798}, 'csfssn': {'dir': ['dlcw', 'jqspd', 'ncgffsr'], 'size': 665872}, 'dlcw': {'dir': [], 'size': 233112}, 'jqspd': {'dir': [], 'size': 251070}, 'dbbfz': {'dir': ['vzfbzbcp'], 'size': 553464}, 'vzfbzbcp': {'dir': [], 'size': 237288}, 'hjgm': {'dir': ['ljqjtdmf', 'shcvnqq'], 'size': 499789}, 'ljqjtdmf': {'dir': ['hlvbmpg', 'nlqqshp', 'wlsjnthg'], 'size': 430550}, 'hlvbmpg': {'dir': [], 'size': 54421}, 'nlqqshp': {'dir': ['rvzprwhp'], 'size': 0}, 'rvzprwhp': {'dir': [], 'size': 35024}, 'wlsjnthg': {'dir': [], 'size': 29178}, 'hwd': {'dir': ['jzqtmm'], 'size': 0}, 'jzqtmm': {'dir': [], 'size': 103547}, 'wgw': {'dir': ['mmhlt'], 'size': 0}, 'mmhlt': {'dir': ['cmwjh'], 'size': 0}, 'cmwjh': {'dir': [], 'size': 243844}, 'dhfng': {'dir': ['lbccc'], 'size': 314758}, 'lbccc': {'dir': ['jtj', 'ntnn', 'vbfgmmvw'], 'size': 677997}, 'jtj': {'dir': ['hvmlh'], 'size': 0}, 'hvmlh': {'dir': [], 'size': 131886}, 'ntnn': {'dir': ['wfgdd'], 'size': 162926}, 'wfgdd': {'dir': ['lgzlndn', 'qnbq'], 'size': 58756}, 'lgzlndn': {'dir': [], 'size': 190415}, 'vbfgmmvw': {'dir': [], 'size': 271827}, 'rqjs': {'dir': ['bwnzs'], 'size': 291432}, 'bwnzs': {'dir': ['vhvcfhvr'], 'size': 147236}, 'vhvcfhvr': {'dir': [], 'size': 212716}, 'rjzjrbvs': {'dir': ['ftrlfg', 'mtrnl', 'rdpbbd', 'shcvnqq', 'vztnr'], 'size': 0}, 'ftrlfg': {'dir': ['ffsvh', 'lwnfc', 'ncgffsr', 'tfdctq', 'vgthdbf'], 'size': 454064}, 'ffsvh': {'dir': [], 'size': 20370}, 'lwnfc': {'dir': ['fgmd', 'gmdjt', 'ssnncn'], 'size': 284057}, 'fgmd': {'dir': [], 'size': 482520}, 'gmdjt': {'dir': [], 'size': 202107}, 'ssnncn': {'dir': [], 'size': 140697}, 'tfdctq': {'dir': ['cttmzlw', 'ntvtm'], 'size': 542022}, 'cttmzlw': {'dir': [], 'size': 142651}, 'ntvtm': {'dir': [], 'size': 264547}, 'vgthdbf': {'dir': [], 'size': 130998}, 'mtrnl': {'dir': [], 'size': 208744}, 'rdpbbd': {'dir': ['gstfdm', 'qnbq', 'qtj'], 'size': 437686}, 'gstfdm': {'dir': [], 'size': 23734}, 'qtj': {'dir': ['tls', 'zvpcfhg'], 'size': 0}, 'tls': {'dir': ['chvgwnt', 'jvgnmfjw'], 'size': 0}, 'chvgwnt': {'dir': ['rbw', 'srhj'], 'size': 0}, 'rbw': {'dir': [], 'size': 447367}, 'srhj': {'dir': [], 'size': 134054}, 'jvgnmfjw': {'dir': ['hdcwbwgm'], 'size': 236775}, 'hdcwbwgm': {'dir': [], 'size': 113707}, 'zvpcfhg': {'dir': ['lsq'], 'size': 0}, 'lsq': {'dir': [], 'size': 220331}, 'cmwrqgfq': {'dir': [], 'size': 81199}, 'lttjrdn': {'dir': [], 'size': 395466}, 'sqgnhc': {'dir': ['glswqrdp', 'qnbq'], 'size': 0}, 'glswqrdp': {'dir': [], 'size': 225761}, 'vztnr': {'dir': [], 'size': 189943}, 'vtzvf': {'dir': [], 'size': 43248}}\n"
     ]
    }
   ],
   "source": [
    "print(file_tree)"
   ]
  },
  {
   "cell_type": "code",
   "execution_count": null,
   "metadata": {},
   "outputs": [],
   "source": []
  },
  {
   "cell_type": "code",
   "execution_count": null,
   "metadata": {},
   "outputs": [],
   "source": []
  },
  {
   "cell_type": "code",
   "execution_count": null,
   "metadata": {},
   "outputs": [],
   "source": [
    "def temp_name():\n",
    "    with open('07_input.txt', 'r') as puzzle_input:\n",
    "        puzzle_input = puzzle_input.read().split('$ cd')[1:]\n",
    "        print(puzzle_input[0])\n",
    "        \n",
    "        for section in puzzle_input:\n",
    "            current_dir = \n",
    "                \n",
    "        \n",
    "temp_name()"
   ]
  }
 ],
 "metadata": {
  "kernelspec": {
   "display_name": "Python 3",
   "language": "python",
   "name": "python3"
  },
  "language_info": {
   "codemirror_mode": {
    "name": "ipython",
    "version": 3
   },
   "file_extension": ".py",
   "mimetype": "text/x-python",
   "name": "python",
   "nbconvert_exporter": "python",
   "pygments_lexer": "ipython3",
   "version": "3.8.3"
  }
 },
 "nbformat": 4,
 "nbformat_minor": 4
}
