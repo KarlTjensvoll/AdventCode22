{
 "cells": [
  {
   "cell_type": "code",
   "execution_count": 105,
   "metadata": {},
   "outputs": [
    {
     "name": "stdout",
     "output_type": "stream",
     "text": [
      "7908\n"
     ]
    }
   ],
   "source": [
    "import string\n",
    "\n",
    "def find_dup(rugsack):\n",
    "    first, second = {*rugsack[:len(rugsack)//2]}, {*rugsack[len(rugsack)//2:]}\n",
    "    return first.intersection(second)\n",
    "\n",
    "\n",
    "def find_val(letter):\n",
    "    try:\n",
    "        return string.ascii_lowercase.index(letter) + 1\n",
    "    except ValueError:\n",
    "        return string.ascii_uppercase.index(letter) + 27\n",
    "    \n",
    "\n",
    "def load_rugsack():\n",
    "    with open('03_input.txt', 'r') as rugsack_list:\n",
    "        dups = [find_dup(rugsack.strip()) for rugsack in rugsack_list]\n",
    "        priorities = [find_val(*letter) for letter in dups]\n",
    "    return(priorities)\n",
    "\n",
    "print(sum(load_rugsack()))"
   ]
  },
  {
   "cell_type": "code",
   "execution_count": 104,
   "metadata": {},
   "outputs": [
    {
     "name": "stdout",
     "output_type": "stream",
     "text": [
      "2838\n"
     ]
    }
   ],
   "source": [
    "def find_dup_grouped(rugsacks):\n",
    "    group_dup = [\n",
    "        {*first}.intersection({*second}.intersection({*third}))\n",
    "        for first, second, third\n",
    "        in zip(rugsacks[::3], rugsacks[1::3], rugsacks[2::3])\n",
    "    ]\n",
    "    return group_dup\n",
    "\n",
    "def load_rugsack_groups():\n",
    "    with open('03_input.txt', 'r') as rugsack_list:\n",
    "        rugsacks = [rugsack.strip() for rugsack in rugsack_list]\n",
    "        dups = find_dup_grouped(rugsacks)\n",
    "        priorities = [find_val(*letter) for letter in dups]\n",
    "    return(priorities)\n",
    "\n",
    "print(sum(load_rugsack_groups()))"
   ]
  }
 ],
 "metadata": {
  "kernelspec": {
   "display_name": "Python 3",
   "language": "python",
   "name": "python3"
  },
  "language_info": {
   "codemirror_mode": {
    "name": "ipython",
    "version": 3
   },
   "file_extension": ".py",
   "mimetype": "text/x-python",
   "name": "python",
   "nbconvert_exporter": "python",
   "pygments_lexer": "ipython3",
   "version": "3.8.3"
  }
 },
 "nbformat": 4,
 "nbformat_minor": 4
}
