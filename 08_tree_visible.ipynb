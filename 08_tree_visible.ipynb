{
 "cells": [
  {
   "cell_type": "code",
   "execution_count": 1,
   "metadata": {},
   "outputs": [
    {
     "name": "stdout",
     "output_type": "stream",
     "text": [
      "1700\n"
     ]
    }
   ],
   "source": [
    "def visible_left(tree_grid, this_tree, i, j):\n",
    "    return all([int(this_tree) > int(tree)  for tree in tree_grid[i][:j]])\n",
    "\n",
    "\n",
    "def visible_right(tree_grid, this_tree, i, j):\n",
    "    return all([int(this_tree) > int(tree) for tree in tree_grid[i][j + 1:]])\n",
    "    \n",
    "\n",
    "def determine_visibility():\n",
    "    with open('08_input.txt', 'r') as tree_grid:\n",
    "        tree_grid = [line.strip() for line in tree_grid.readlines()]\n",
    "        n_visible_trees = (len(tree_grid) - 1) * 4  # The circumference is always visible\n",
    "        tree_range = range(1, len(tree_grid) - 1)\n",
    "        \n",
    "        # Transpose list, so instead of looking up down, look left right.\n",
    "        tree_grid_t = [list(line) for line in zip(*tree_grid)]\n",
    "        tree_grid_t = [''.join(line) for line in tree_grid_t]\n",
    "        \n",
    "        for i in tree_range:\n",
    "            for j in tree_range:\n",
    "                tree = tree_grid[i][j]\n",
    "                \n",
    "                # Package input for nicer function call.\n",
    "                pass_input = (tree_grid, tree, i, j)\n",
    "                pass_input_t = (tree_grid_t, tree, j, i)\n",
    "                if (\n",
    "                    visible_left(*pass_input) or visible_right(*pass_input) or\n",
    "                    visible_left(*pass_input_t) or visible_right(*pass_input_t)\n",
    "                ):\n",
    "                    n_visible_trees += 1\n",
    "    return n_visible_trees\n",
    "                \n",
    "        \n",
    "print(determine_visibility())"
   ]
  },
  {
   "cell_type": "code",
   "execution_count": 2,
   "metadata": {},
   "outputs": [
    {
     "name": "stdout",
     "output_type": "stream",
     "text": [
      "470596\n"
     ]
    }
   ],
   "source": [
    "def scenic_left(tree_grid, this_tree, i, j):\n",
    "    this_grid = tree_grid[i][:j]\n",
    "    try:\n",
    "        return [int(this_tree) > int(tree)  for tree in this_grid[::-1]].index(False) + 1\n",
    "    except ValueError:\n",
    "        return len(this_grid)\n",
    "        \n",
    "\n",
    "\n",
    "def scenic_right(tree_grid, this_tree, i, j):\n",
    "    this_grid = tree_grid[i][j + 1:]\n",
    "    try:\n",
    "        return [int(this_tree) > int(tree)  for tree in this_grid].index(False) + 1\n",
    "    except ValueError:\n",
    "        return len(this_grid)\n",
    "    \n",
    "\n",
    "def determine_scenic():\n",
    "    with open('08_input.txt', 'r') as tree_grid:\n",
    "        tree_grid = [line.strip() for line in tree_grid.readlines()]\n",
    "        tree_range = range(1, len(tree_grid))\n",
    "        \n",
    "        # Transpose list, so instead of looking up down, look left right.\n",
    "        tree_grid_t = [list(line) for line in zip(*tree_grid)]\n",
    "        tree_grid_t = [''.join(line) for line in tree_grid_t]\n",
    "        \n",
    "        highest_scenic_score = 0\n",
    "        for i in tree_range:\n",
    "            for j in tree_range:\n",
    "                tree = tree_grid[i][j]\n",
    "                \n",
    "                # Package input for nicer function call.\n",
    "                pass_input = (tree_grid, tree, i, j)\n",
    "                pass_input_t = (tree_grid_t, tree, j, i)\n",
    "                \n",
    "                scenic_score = (\n",
    "                    scenic_left(*pass_input) * scenic_right(*pass_input) * \n",
    "                    scenic_left(*pass_input_t) * scenic_right(*pass_input_t)\n",
    "                )\n",
    "\n",
    "                if scenic_score > highest_scenic_score:\n",
    "                    highest_scenic_score = scenic_score\n",
    "                \n",
    "    return highest_scenic_score\n",
    "                \n",
    "        \n",
    "print(determine_scenic())"
   ]
  }
 ],
 "metadata": {
  "kernelspec": {
   "display_name": "Python 3",
   "language": "python",
   "name": "python3"
  },
  "language_info": {
   "codemirror_mode": {
    "name": "ipython",
    "version": 3
   },
   "file_extension": ".py",
   "mimetype": "text/x-python",
   "name": "python",
   "nbconvert_exporter": "python",
   "pygments_lexer": "ipython3",
   "version": "3.8.3"
  }
 },
 "nbformat": 4,
 "nbformat_minor": 4
}
