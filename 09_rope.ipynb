{
 "cells": [
  {
   "cell_type": "code",
   "execution_count": 1,
   "metadata": {},
   "outputs": [],
   "source": [
    "from math import ceil, floor\n",
    "\n",
    "def clamp(to_clamp, low=-1, high=1):\n",
    "    return min(1, max(-1, to_clamp))\n",
    "\n",
    "class Point:\n",
    "    def __init__(self, x, y):\n",
    "        self.x = x\n",
    "        self.y = y\n",
    "    \n",
    "    \n",
    "    def move(self, direction):\n",
    "        if direction == 'U':\n",
    "            self.y += 1\n",
    "        elif direction == 'R':\n",
    "            self.x += 1\n",
    "        elif direction == 'D':\n",
    "            self.y -= 1\n",
    "        else:\n",
    "            self.x -= 1\n",
    "    \n",
    "    @property\n",
    "    def position(self):\n",
    "        return (self.x, self.y)\n",
    "            \n",
    "    def distance(self, other):\n",
    "        return ((self.x - other.x)**2 + (self.y - other.y)**2)**(1/2)\n",
    "            \n",
    "    def touching(self, other):\n",
    "        return self.distance(other) <= 2.01**(1/2)\n",
    "    \n",
    "    def move_towards(self, other):\n",
    "        self.x += clamp(other.x - self.x)\n",
    "        self.y += clamp(other.y - self.y)\n",
    "    \n",
    "    def move_towards2(self, other):\n",
    "        if self.distance(other) > 1:  # Doesn't work.\n",
    "            new_x = (other.x - self.x) / 2\n",
    "            new_x = ceil(new_x) if new_x > 0 else floor(new_x)\n",
    "            self.x += new_x\n",
    "            \n",
    "            new_y = (other.y - self.y) / 2\n",
    "            new_y = ceil(new_y) if new_y > 0 else floor(new_y)\n",
    "            self.y += new_y\n",
    "        else:\n",
    "            self.x += (other.x - self.x) // 2\n",
    "            self.y += (other.y - self.y) // 2\n",
    "            \n",
    "    def __sub__(self, other):\n",
    "        return (self.x - other.x, self.y - other.y)\n",
    "    \n",
    "    def __str__(self):\n",
    "        return f'({self.x}, {self.y})'\n",
    "    \n",
    "    def __repr__(self):\n",
    "        return f'({self.x}, {self.y})'\n",
    "        \n",
    "        "
   ]
  },
  {
   "cell_type": "code",
   "execution_count": 2,
   "metadata": {
    "scrolled": false
   },
   "outputs": [
    {
     "data": {
      "text/plain": [
       "6090"
      ]
     },
     "execution_count": 2,
     "metadata": {},
     "output_type": "execute_result"
    }
   ],
   "source": [
    "def tail_visited():\n",
    "    head, tail = Point(0, 0), Point(0, 0)\n",
    "    visited = {(0, 0)}\n",
    "    \n",
    "    with open('09_input.txt', 'r') as moves:\n",
    "        for move in moves:\n",
    "            direction, steps = move.split()\n",
    "            \n",
    "            for _ in range(int(steps)):\n",
    "                head.move(direction)\n",
    "                \n",
    "                if not tail.touching(head):\n",
    "                    tail.move_towards(head)\n",
    "                    visited.add(tail.position)\n",
    "    \n",
    "    return visited   \n",
    "                \n",
    "len(tail_visited())"
   ]
  },
  {
   "cell_type": "code",
   "execution_count": 3,
   "metadata": {},
   "outputs": [
    {
     "data": {
      "text/plain": [
       "2566"
      ]
     },
     "execution_count": 3,
     "metadata": {},
     "output_type": "execute_result"
    }
   ],
   "source": [
    "def ten_knots():\n",
    "    head, *tail_list = [Point(0, 0) for _ in range(10)]\n",
    "    visited = {(0, 0)}\n",
    "    \n",
    "    with open('09_input.txt', 'r') as moves:\n",
    "        for move in moves:\n",
    "            direction, steps = move.split()\n",
    "            \n",
    "            for _ in range(int(steps)):\n",
    "                head.move(direction)\n",
    "                \n",
    "                for i, tail in enumerate(tail_list):\n",
    "                    if i == 0:\n",
    "                        if not tail.touching(head):\n",
    "                            tail.move_towards(head)\n",
    "                    else:\n",
    "                        if not tail.touching(tail_list[i - 1]):\n",
    "                            tail.move_towards(tail_list[i - 1])\n",
    "                            \n",
    "                            if i == 8:\n",
    "                                visited.add(tail.position)\n",
    "    return visited\n",
    "                    \n",
    "\n",
    "len(ten_knots())"
   ]
  },
  {
   "cell_type": "code",
   "execution_count": null,
   "metadata": {},
   "outputs": [],
   "source": []
  }
 ],
 "metadata": {
  "kernelspec": {
   "display_name": "Python 3 (ipykernel)",
   "language": "python",
   "name": "python3"
  },
  "language_info": {
   "codemirror_mode": {
    "name": "ipython",
    "version": 3
   },
   "file_extension": ".py",
   "mimetype": "text/x-python",
   "name": "python",
   "nbconvert_exporter": "python",
   "pygments_lexer": "ipython3",
   "version": "3.9.13"
  }
 },
 "nbformat": 4,
 "nbformat_minor": 4
}
