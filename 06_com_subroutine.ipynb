{
 "cells": [
  {
   "cell_type": "code",
   "execution_count": 19,
   "metadata": {},
   "outputs": [
    {
     "name": "stdout",
     "output_type": "stream",
     "text": [
      "1757\n"
     ]
    }
   ],
   "source": [
    "def subroutine(packet_len = 4):\n",
    "    with open('06_input.txt', 'r') as datastream:\n",
    "        data_buffer = datastream.read()\n",
    "        for i in range(len(data_buffer)):\n",
    "            packet = data_buffer[i: i + packet_len]\n",
    "            if len({*packet}) == packet_len:\n",
    "                return(i + packet_len)\n",
    "print(subroutine())"
   ]
  },
  {
   "cell_type": "code",
   "execution_count": 20,
   "metadata": {},
   "outputs": [
    {
     "name": "stdout",
     "output_type": "stream",
     "text": [
      "2950\n"
     ]
    }
   ],
   "source": [
    "print(subroutine(14))"
   ]
  }
 ],
 "metadata": {
  "kernelspec": {
   "display_name": "Python 3",
   "language": "python",
   "name": "python3"
  },
  "language_info": {
   "codemirror_mode": {
    "name": "ipython",
    "version": 3
   },
   "file_extension": ".py",
   "mimetype": "text/x-python",
   "name": "python",
   "nbconvert_exporter": "python",
   "pygments_lexer": "ipython3",
   "version": "3.8.3"
  }
 },
 "nbformat": 4,
 "nbformat_minor": 4
}
