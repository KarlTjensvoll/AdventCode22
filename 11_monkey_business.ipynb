{
 "cells": [
  {
   "cell_type": "code",
   "execution_count": 10,
   "id": "66d6dacc",
   "metadata": {},
   "outputs": [],
   "source": [
    "import re\n",
    "import operator\n",
    "from functools import reduce\n",
    "from math import lcm\n",
    "\n",
    "class Monkey:\n",
    "    \n",
    "    def __init__(self, init_list):\n",
    "        self.ops = {'*': operator.mul, '+': operator.add}\n",
    "        self.inspected = 0\n",
    "        \n",
    "        self.items = [int(item) for item in re.findall('(\\d+)+', init_list[0])]\n",
    "        self.operation = re.search('[\\+*] \\w+', init_list[1]).group().split()\n",
    "        self.test = int(re.search('\\d+', init_list[2]).group())\n",
    "        self.true = int(re.search('\\d', init_list[3]).group())\n",
    "        self.false = int(re.search('\\d', init_list[4]).group())\n",
    "        \n",
    "    def inspect_item(self, item):\n",
    "        self.inspected += 1\n",
    "        \n",
    "        if self.operation[1] == 'old':\n",
    "            item = self.ops[self.operation[0]](item, item)\n",
    "        else:\n",
    "            item = self.ops[self.operation[0]](item, int(self.operation[1]))\n",
    "            \n",
    "        return item\n",
    "        \n",
    "    def dont_break_item(self, item):\n",
    "        return item // 3\n",
    "    \n",
    "    \n",
    "    def dont_break_item2(self, item, monkey_lcm):\n",
    "        return item % monkey_lcm\n",
    "\n",
    "        \n",
    "    def is_divisible(self, item):\n",
    "        return item % self.test == 0\n",
    "        "
   ]
  },
  {
   "cell_type": "code",
   "execution_count": 11,
   "id": "0b48a2a0",
   "metadata": {},
   "outputs": [
    {
     "data": {
      "text/plain": [
       "129486984568"
      ]
     },
     "execution_count": 11,
     "metadata": {},
     "output_type": "execute_result"
    }
   ],
   "source": [
    "def read_monkey_list(rounds = 20):\n",
    "    with open('11_input.txt', 'r') as monkey_file:\n",
    "        monkey_text = monkey_file.read().split('\\n\\n')\n",
    "        monkey_description = [[line.strip() for line in monkey.split('\\n')[1:]] for monkey in monkey_text]\n",
    "        \n",
    "        monkeys = [Monkey(description) for description in monkey_description]\n",
    "        \n",
    "        for _ in range(10000):\n",
    "            for monkey in monkeys:\n",
    "                while len(monkey.items):\n",
    "                    item = monkey.items.pop()\n",
    "                    item = monkey.inspect_item(item)\n",
    "                    item = monkey.dont_break_item(item)\n",
    "\n",
    "                    if monkey.is_divisible(item):\n",
    "                        monkeys[monkey.true].items.append(item)\n",
    "                    else:\n",
    "                        monkeys[monkey.false].items.append(item)\n",
    "                \n",
    "        \n",
    "        \n",
    "        return monkeys\n",
    "        \n",
    "monkeys = read_monkey_list()\n",
    "reduce(lambda x, y: x*y, sorted([monkey.inspected for monkey in monkeys])[-2:])"
   ]
  },
  {
   "cell_type": "code",
   "execution_count": 12,
   "id": "e3eb56cf",
   "metadata": {},
   "outputs": [
    {
     "data": {
      "text/plain": [
       "35270398814"
      ]
     },
     "execution_count": 12,
     "metadata": {},
     "output_type": "execute_result"
    }
   ],
   "source": [
    "def read_monkey_list(rounds = 20):\n",
    "    with open('11_input.txt', 'r') as monkey_file:\n",
    "        monkey_text = monkey_file.read().split('\\n\\n')\n",
    "        monkey_description = [[line.strip() for line in monkey.split('\\n')[1:]] for monkey in monkey_text]\n",
    "        \n",
    "        monkeys = [Monkey(description) for description in monkey_description]\n",
    "        \n",
    "        # find least common demoninator:\n",
    "        monkey_lcm = lcm(*[monkey.test for monkey in monkeys])\n",
    "        \n",
    "        for _ in range(10000):\n",
    "            for monkey in monkeys:\n",
    "                while len(monkey.items):\n",
    "                    item = monkey.items.pop()\n",
    "                    item = monkey.inspect_item(item)\n",
    "                    item = monkey.dont_break_item2(item, monkey_lcm)\n",
    "\n",
    "                    if monkey.is_divisible(item):\n",
    "                        monkeys[monkey.true].items.append(item)\n",
    "                    else:\n",
    "                        monkeys[monkey.false].items.append(item)\n",
    "                \n",
    "        \n",
    "        \n",
    "    return monkeys\n",
    "        \n",
    "monkeys = read_monkey_list()\n",
    "reduce(lambda x, y: x*y, sorted([monkey.inspected for monkey in monkeys])[-2:])"
   ]
  },
  {
   "cell_type": "code",
   "execution_count": null,
   "id": "51d969db",
   "metadata": {},
   "outputs": [],
   "source": []
  }
 ],
 "metadata": {
  "kernelspec": {
   "display_name": "Python 3 (ipykernel)",
   "language": "python",
   "name": "python3"
  },
  "language_info": {
   "codemirror_mode": {
    "name": "ipython",
    "version": 3
   },
   "file_extension": ".py",
   "mimetype": "text/x-python",
   "name": "python",
   "nbconvert_exporter": "python",
   "pygments_lexer": "ipython3",
   "version": "3.9.13"
  }
 },
 "nbformat": 4,
 "nbformat_minor": 5
}
