{
 "cells": [
  {
   "cell_type": "code",
   "execution_count": 58,
   "id": "1c477b67",
   "metadata": {},
   "outputs": [
    {
     "data": {
      "text/plain": [
       "13180"
      ]
     },
     "execution_count": 58,
     "metadata": {},
     "output_type": "execute_result"
    }
   ],
   "source": [
    "\n",
    "def run_program():\n",
    "    with open('10_input.txt', 'r') as program:\n",
    "        program = program.read().split()\n",
    "        cycle = 1\n",
    "        register = 1\n",
    "        return_register = []\n",
    "\n",
    "        for code in program:\n",
    "            cycle += 1\n",
    "            try:\n",
    "                code = int(code)\n",
    "                register += code\n",
    "            except:\n",
    "                pass\n",
    "\n",
    "            if cycle == 20 or (cycle - 20) % 40 == 0:\n",
    "                return_register += [register * cycle]\n",
    "\n",
    "    return return_register\n",
    "        \n",
    "            \n",
    "sum(run_program())\n",
    "\n"
   ]
  },
  {
   "cell_type": "code",
   "execution_count": 106,
   "id": "eb03789d",
   "metadata": {},
   "outputs": [
    {
     "data": {
      "text/plain": [
       "['####.####.####..##..#..#...##..##..###..',\n",
       " '#.......#.#....#..#.#..#....#.#..#.#....',\n",
       " '###....#..###..#....####....#.#..#.###..',\n",
       " '#.....#...#....#....#..#....#.####.#....',\n",
       " '#....#....#....#..#.#..#.#..#.#..#.#...#',\n",
       " '####.####.#.....##..#..#..##..#..#.###..']"
      ]
     },
     "execution_count": 106,
     "metadata": {},
     "output_type": "execute_result"
    }
   ],
   "source": [
    "def print_ctr():\n",
    "    with open('10_input.txt', 'r') as program:\n",
    "        program = program.read().split()\n",
    "        cycle = 1\n",
    "        register = 1\n",
    "        ctr_lines = []\n",
    "        current_line = ''\n",
    "\n",
    "        for code in program:\n",
    "            cycle += 1\n",
    "\n",
    "            if cycle % 40 in range(register + 1, register + 4):\n",
    "                current_line += '#'\n",
    "            else:\n",
    "                current_line += '.'\n",
    "\n",
    "            try:\n",
    "                code = int(code)\n",
    "                register += code\n",
    "            except:\n",
    "                pass\n",
    "\n",
    "            if cycle % 40 == 1:\n",
    "                ctr_lines += [current_line]\n",
    "                current_line = ''\n",
    "    \n",
    "    return ctr_lines\n",
    "    \n",
    "print_ctr()"
   ]
  },
  {
   "cell_type": "code",
   "execution_count": null,
   "id": "ea11964b",
   "metadata": {},
   "outputs": [],
   "source": []
  }
 ],
 "metadata": {
  "kernelspec": {
   "display_name": "Python 3 (ipykernel)",
   "language": "python",
   "name": "python3"
  },
  "language_info": {
   "codemirror_mode": {
    "name": "ipython",
    "version": 3
   },
   "file_extension": ".py",
   "mimetype": "text/x-python",
   "name": "python",
   "nbconvert_exporter": "python",
   "pygments_lexer": "ipython3",
   "version": "3.9.13"
  }
 },
 "nbformat": 4,
 "nbformat_minor": 5
}
