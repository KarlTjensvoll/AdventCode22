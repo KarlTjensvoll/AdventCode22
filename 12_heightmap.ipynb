{
 "cells": [
  {
   "cell_type": "code",
   "execution_count": 213,
   "id": "1254e11f",
   "metadata": {},
   "outputs": [],
   "source": [
    "import numpy as np\n",
    "from string import ascii_lowercase\n",
    "ascii_lowercase = ascii_lowercase"
   ]
  },
  {
   "cell_type": "code",
   "execution_count": 190,
   "id": "ec5fcbb1",
   "metadata": {},
   "outputs": [],
   "source": [
    "def is_valid(row, col, map_array, current_h):\n",
    "    current_idx = ascii_lowercase.index(current_h)\n",
    "    return (\n",
    "        row in range(map_array.shape[0]) and \n",
    "        col in range(map_array.shape[1]) and\n",
    "        (\n",
    "            ascii_lowercase.index(map_array[row, col]) <= current_idx or \n",
    "            ascii_lowercase.index(map_array[row, col]) - 1 == current_idx\n",
    "        )\n",
    "    )"
   ]
  },
  {
   "cell_type": "code",
   "execution_count": 191,
   "id": "b58eced2",
   "metadata": {},
   "outputs": [],
   "source": [
    "def neighbours(map_array, vertex):\n",
    "    i, j = vertex\n",
    "    current_h = map_array[i, j]\n",
    "    indices = [(i, j - 1), (i, j + 1), (i + 1, j), (i - 1, j)]\n",
    "    \n",
    "    return [\n",
    "        (row, col) for row, col in indices if is_valid(row, col, map_array, current_h) \n",
    "    ]"
   ]
  },
  {
   "cell_type": "code",
   "execution_count": 215,
   "id": "bdd86499",
   "metadata": {},
   "outputs": [],
   "source": [
    "def find_target_pos(array):\n",
    "    i, j = np.where(array == 'E')\n",
    "    return (i[0], j[0])"
   ]
  },
  {
   "cell_type": "code",
   "execution_count": 216,
   "id": "c5cb254f",
   "metadata": {},
   "outputs": [],
   "source": [
    "def find_start_pos(array):\n",
    "    i, j = np.where(array == 'S')\n",
    "    return (i[0], j[0])"
   ]
  },
  {
   "cell_type": "code",
   "execution_count": 193,
   "id": "5d6f94c4",
   "metadata": {},
   "outputs": [],
   "source": [
    "def create_array(file):\n",
    "    return np.array([list(line) for line in file.read().split()])"
   ]
  },
  {
   "cell_type": "code",
   "execution_count": 244,
   "id": "c6cbf7b2",
   "metadata": {},
   "outputs": [
    {
     "data": {
      "text/plain": [
       "528"
      ]
     },
     "execution_count": 244,
     "metadata": {},
     "output_type": "execute_result"
    }
   ],
   "source": [
    "def find_path():\n",
    "    with open('12_input.txt', 'r') as topological_map:\n",
    "        map_array = create_array(topological_map)\n",
    "        queue = [(find_start_pos(map_array), 1)]\n",
    "        target = find_target_pos(map_array)\n",
    "        \n",
    "        # Override start and target\n",
    "        map_array[queue[0][0]] = 'a'\n",
    "        map_array[target] = 'z'\n",
    "        visited = []\n",
    "        levels = []\n",
    "        \n",
    "        while len(queue) > 0:\n",
    "            vertex, level = queue.pop(0)\n",
    "            if vertex not in visited:     \n",
    "                visited.append(vertex)\n",
    "                levels.append(level)\n",
    "                for neighbour in neighbours(map_array, vertex):\n",
    "                    if neighbour == target:\n",
    "                        return levels\n",
    "                    \n",
    "                    if neighbour not in visited:\n",
    "                        queue.append((neighbour, level + 1))\n",
    "\n",
    "        print('Could not find target.')\n",
    "        \n",
    "        \n",
    "levels = find_path()\n",
    "levels[-1]"
   ]
  },
  {
   "cell_type": "code",
   "execution_count": 247,
   "id": "ebb6c064",
   "metadata": {},
   "outputs": [],
   "source": [
    "def find_start_area():\n",
    "    with open('12_input.txt', 'r') as topological_map:\n",
    "        map_array = create_array(topological_map)\n",
    "        queue = [(find_start_pos(map_array), 1)]\n",
    "        \n",
    "        # Override start and target\n",
    "        map_array[queue[0][0]] = 'a'\n",
    "        visited = []\n",
    "        \n",
    "        while len(queue) > 0:\n",
    "            vertex, level = queue.pop(0)\n",
    "            if vertex not in visited:     \n",
    "                visited.append(vertex)\n",
    "                levels.append(level)\n",
    "                for neighbour in neighbours(map_array, vertex):\n",
    "                    \n",
    "                    if neighbour not in visited and map_array[neighbour] == 'a':\n",
    "                        queue.append((neighbour, level + 1))\n",
    "        return visited\n",
    "\n",
    "start_area = find_start_area()"
   ]
  },
  {
   "cell_type": "code",
   "execution_count": 255,
   "id": "146e7d96",
   "metadata": {},
   "outputs": [
    {
     "data": {
      "text/plain": [
       "199"
      ]
     },
     "execution_count": 255,
     "metadata": {},
     "output_type": "execute_result"
    }
   ],
   "source": [
    "def find_path2(start_area):\n",
    "    with open('12_input.txt', 'r') as topological_map:\n",
    "        map_array = create_array(topological_map)\n",
    "        queue = [(find_target_pos(map_array), 1)]\n",
    "        #target = find_start_pos(map_array)\n",
    "        \n",
    "        # Override start and target\n",
    "        map_array[queue[0][0]] = 'z'\n",
    "        #map_array[target] = 'a'\n",
    "        visited = []\n",
    "        levels = []\n",
    "        \n",
    "        while len(queue) > 0:\n",
    "            vertex, level = queue.pop(0)\n",
    "            if vertex not in visited:     \n",
    "                visited.append(vertex)\n",
    "                levels.append(level)\n",
    "                for neighbour in neighbours(map_array, vertex):\n",
    "                    if neighbour in start_area:\n",
    "                        return levels\n",
    "                    \n",
    "                    if neighbour not in visited:\n",
    "                        queue.append((neighbour, level + 1))\n",
    "\n",
    "        print('Could not find target.')\n",
    "        \n",
    "        \n",
    "levels = find_path2(start_area)\n",
    "levels[-1]"
   ]
  },
  {
   "cell_type": "code",
   "execution_count": null,
   "id": "d316cab6",
   "metadata": {},
   "outputs": [],
   "source": [
    "199 - too low"
   ]
  }
 ],
 "metadata": {
  "kernelspec": {
   "display_name": "Python 3 (ipykernel)",
   "language": "python",
   "name": "python3"
  },
  "language_info": {
   "codemirror_mode": {
    "name": "ipython",
    "version": 3
   },
   "file_extension": ".py",
   "mimetype": "text/x-python",
   "name": "python",
   "nbconvert_exporter": "python",
   "pygments_lexer": "ipython3",
   "version": "3.9.13"
  }
 },
 "nbformat": 4,
 "nbformat_minor": 5
}
