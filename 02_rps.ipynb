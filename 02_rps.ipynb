{
 "cells": [
  {
   "cell_type": "code",
   "execution_count": 1,
   "metadata": {},
   "outputs": [
    {
     "name": "stdout",
     "output_type": "stream",
     "text": [
      "15691\n"
     ]
    }
   ],
   "source": [
    "move_score = {'X': 1, 'Y': 2, 'Z': 3}\n",
    "move_win = {'X': 'C', 'Y': 'A', 'Z': 'B'}\n",
    "move_lose = {'A': 'Z', 'B': 'X', 'C': 'Y'}\n",
    "\n",
    "def cumsum(\n",
    "    path = '02_input.txt', move_score = move_score, move_win = move_win, move_lose = move_lose\n",
    "):\n",
    "    with open(path, 'r') as strategum:\n",
    "        cumsum = 0\n",
    "        for game in strategum:\n",
    "            elf, me = game.strip().replace(' ', '')\n",
    "            cumsum += move_score[me]\n",
    "            \n",
    "            if move_lose[elf] == me:\n",
    "                next\n",
    "            elif move_win[me] == elf:\n",
    "                cumsum += 6\n",
    "            else:\n",
    "                cumsum += 3\n",
    "    return cumsum\n",
    "\n",
    "print(cumsum())"
   ]
  },
  {
   "cell_type": "code",
   "execution_count": 2,
   "metadata": {},
   "outputs": [
    {
     "name": "stdout",
     "output_type": "stream",
     "text": [
      "12989\n"
     ]
    }
   ],
   "source": [
    "move_score = {'A': 1, 'B': 2, 'C': 3}\n",
    "move_win = {'A': 'C', 'B': 'A', 'C': 'B'}\n",
    "\n",
    "def cumsum_part2(\n",
    "    path = '02_input.txt', move_score = move_score, move_win = move_win\n",
    "):\n",
    "    with open(path, 'r') as strategum:\n",
    "        cumsum = 0\n",
    "        for game in strategum:\n",
    "            elf, strat = game.strip().replace(' ', '')\n",
    "            \n",
    "            if strat == 'Z':\n",
    "                me = [move for move in move_win if move_win[move] == elf][0]\n",
    "                cumsum += 6\n",
    "            elif strat == 'Y':\n",
    "                me = elf\n",
    "                cumsum += 3\n",
    "            else:\n",
    "                me = move_win[elf]\n",
    "            cumsum += move_score[me]\n",
    "    return cumsum\n",
    "\n",
    "print(cumsum_part2())"
   ]
  },
  {
   "cell_type": "code",
   "execution_count": null,
   "metadata": {},
   "outputs": [],
   "source": []
  }
 ],
 "metadata": {
  "kernelspec": {
   "display_name": "Python 3",
   "language": "python",
   "name": "python3"
  },
  "language_info": {
   "codemirror_mode": {
    "name": "ipython",
    "version": 3
   },
   "file_extension": ".py",
   "mimetype": "text/x-python",
   "name": "python",
   "nbconvert_exporter": "python",
   "pygments_lexer": "ipython3",
   "version": "3.8.3"
  }
 },
 "nbformat": 4,
 "nbformat_minor": 4
}
