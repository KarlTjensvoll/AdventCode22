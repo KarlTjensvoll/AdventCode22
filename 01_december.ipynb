{
 "cells": [
  {
   "cell_type": "code",
   "execution_count": 1,
   "metadata": {},
   "outputs": [],
   "source": [
    "def load_elfs(naughty_list = '01_dec_calorielist.txt'):\n",
    "    with open(naughty_list, 'r') as file:\n",
    "        elf_list = []\n",
    "        this_elf = []\n",
    "        end_of_christmas = False\n",
    "        while not end_of_christmas:\n",
    "            alf = file.readline()\n",
    "\n",
    "            if not alf:\n",
    "                end_of_christmas = True\n",
    "            elif alf == '\\n':\n",
    "                elf_list.append(this_elf)\n",
    "                this_elf = []\n",
    "            else:\n",
    "                this_elf += [int(alf.strip())]\n",
    "\n",
    "    return elf_list"
   ]
  },
  {
   "cell_type": "code",
   "execution_count": 2,
   "metadata": {},
   "outputs": [],
   "source": [
    "elf_list = load_elfs()"
   ]
  },
  {
   "cell_type": "code",
   "execution_count": 3,
   "metadata": {},
   "outputs": [],
   "source": [
    "def sum_snacks(elf_list):\n",
    "    return [sum(snacks) for snacks in elf_list]"
   ]
  },
  {
   "cell_type": "code",
   "execution_count": 4,
   "metadata": {},
   "outputs": [],
   "source": [
    "def find_fat_elf(elf_list):\n",
    "    return max(sum_snacks(elf_list))"
   ]
  },
  {
   "cell_type": "code",
   "execution_count": 5,
   "metadata": {},
   "outputs": [
    {
     "name": "stdout",
     "output_type": "stream",
     "text": [
      "69289\n"
     ]
    }
   ],
   "source": [
    "print(find_fat_elf(elf_list))"
   ]
  },
  {
   "cell_type": "code",
   "execution_count": 6,
   "metadata": {},
   "outputs": [],
   "source": [
    "def find_top_three_fatties(elf_list):\n",
    "    return sorted((sum_snacks(elf_list)))[-3:]"
   ]
  },
  {
   "cell_type": "code",
   "execution_count": 8,
   "metadata": {},
   "outputs": [
    {
     "name": "stdout",
     "output_type": "stream",
     "text": [
      "205615\n"
     ]
    }
   ],
   "source": [
    "print(sum(find_top_three_fatties(elf_list)))"
   ]
  }
 ],
 "metadata": {
  "kernelspec": {
   "display_name": "Python 3",
   "language": "python",
   "name": "python3"
  },
  "language_info": {
   "codemirror_mode": {
    "name": "ipython",
    "version": 3
   },
   "file_extension": ".py",
   "mimetype": "text/x-python",
   "name": "python",
   "nbconvert_exporter": "python",
   "pygments_lexer": "ipython3",
   "version": "3.8.3"
  }
 },
 "nbformat": 4,
 "nbformat_minor": 4
}
