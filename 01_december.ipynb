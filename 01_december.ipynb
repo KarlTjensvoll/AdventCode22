{
 "cells": [
  {
   "cell_type": "code",
   "execution_count": 68,
   "metadata": {},
   "outputs": [],
   "source": [
    "def read_calories(input_path = '01_dec_calorielist.txt'):\n",
    "    with open(input_path, 'r') as file:\n",
    "        calories_list = []\n",
    "        current_list = []\n",
    "        while True:\n",
    "            line = file.readline()\n",
    "\n",
    "            if line == '':\n",
    "                break\n",
    "            elif line == '\\n':\n",
    "                calories_list.append(current_list)\n",
    "                current_list = []\n",
    "                next\n",
    "            else:\n",
    "                current_list += [int(line.strip(\"\\n\"))]\n",
    "    return calories_list"
   ]
  },
  {
   "cell_type": "code",
   "execution_count": 69,
   "metadata": {},
   "outputs": [],
   "source": [
    "calories_list = read_calories()"
   ]
  },
  {
   "cell_type": "code",
   "execution_count": 73,
   "metadata": {},
   "outputs": [],
   "source": [
    "def sum_calories(calories_list):\n",
    "    return [sum(calories) for calories in calories_list]"
   ]
  },
  {
   "cell_type": "code",
   "execution_count": 74,
   "metadata": {},
   "outputs": [],
   "source": [
    "def find_max_calories(calories_list):\n",
    "    return max(sum_calories(calories_list))"
   ]
  },
  {
   "cell_type": "code",
   "execution_count": 75,
   "metadata": {},
   "outputs": [
    {
     "name": "stdout",
     "output_type": "stream",
     "text": [
      "69289\n"
     ]
    }
   ],
   "source": [
    "print(find_max_calories(calories_list))"
   ]
  },
  {
   "cell_type": "code",
   "execution_count": 102,
   "metadata": {},
   "outputs": [],
   "source": [
    "def find_top_three(calories_list):\n",
    "    return sorted((sum_calories(calories_list)))[-3:]"
   ]
  },
  {
   "cell_type": "code",
   "execution_count": 104,
   "metadata": {},
   "outputs": [
    {
     "name": "stdout",
     "output_type": "stream",
     "text": [
      "205615\n"
     ]
    }
   ],
   "source": [
    "print(str(sum(find_top_three(calories_list))))"
   ]
  }
 ],
 "metadata": {
  "kernelspec": {
   "display_name": "Python 3",
   "language": "python",
   "name": "python3"
  },
  "language_info": {
   "codemirror_mode": {
    "name": "ipython",
    "version": 3
   },
   "file_extension": ".py",
   "mimetype": "text/x-python",
   "name": "python",
   "nbconvert_exporter": "python",
   "pygments_lexer": "ipython3",
   "version": "3.8.3"
  }
 },
 "nbformat": 4,
 "nbformat_minor": 4
}
